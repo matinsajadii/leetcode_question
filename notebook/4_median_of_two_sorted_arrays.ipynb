{
 "cells": [
  {
   "cell_type": "code",
   "execution_count": 2,
   "metadata": {},
   "outputs": [],
   "source": [
    "class Solution:\n",
    "    def findMedianSortedArrays(self, nums1, nums2) -> float:\n",
    "        n1 = len(nums1)\n",
    "        n2 = len(nums2)\n",
    "        if n1>n2:\n",
    "            nums1, nums2 = nums2, nums1\n",
    "            n1, n2 = n2, n1\n",
    "        n = n1+n2\n",
    "        half = n//2\n",
    "        low, high = 0, n1-1\n",
    "        while True:\n",
    "            mid1 = (high+low)//2\n",
    "            mid2 = half - (mid1+1) - 1\n",
    "\n",
    "            leftnums1 = nums1[mid1] if mid1>=0 else float(\"-infinity\")\n",
    "            rightnums1 = nums1[mid1+1] if mid1+1<n1 else float(\"infinity\")\n",
    "            leftnums2 = nums2[mid2] if mid2>=0 else float(\"-infinity\")\n",
    "            rightnums2 = nums2[mid2+1] if mid2+1<n2 else float(\"infinity\")\n",
    "\n",
    "            if leftnums1<=rightnums2 and leftnums2<=leftnums1:\n",
    "                if n%2 == 1:\n",
    "                    return min(rightnums1, rightnums2)\n",
    "                else:\n",
    "                    return (max(leftnums1, leftnums2) + min(rightnums1, rightnums2)) // 2\n",
    "            elif leftnums1>rightnums2:\n",
    "                high = mid1-1\n",
    "            else:\n",
    "                low = mid1+1\n",
    "                "
   ]
  },
  {
   "cell_type": "code",
   "execution_count": 3,
   "metadata": {},
   "outputs": [],
   "source": [
    "n1 = [1, 2, 3, 4, 5, 6, 7, 8, 9]\n",
    "n2 = [1, 2, 3, 9, 10, 11]"
   ]
  },
  {
   "cell_type": "code",
   "execution_count": 4,
   "metadata": {},
   "outputs": [
    {
     "ename": "KeyboardInterrupt",
     "evalue": "",
     "output_type": "error",
     "traceback": [
      "\u001b[0;31m---------------------------------------------------------------------------\u001b[0m",
      "\u001b[0;31mKeyboardInterrupt\u001b[0m                         Traceback (most recent call last)",
      "Cell \u001b[0;32mIn[4], line 2\u001b[0m\n\u001b[1;32m      1\u001b[0m obj \u001b[38;5;241m=\u001b[39m Solution()\n\u001b[0;32m----> 2\u001b[0m \u001b[38;5;28mprint\u001b[39m(\u001b[43mobj\u001b[49m\u001b[38;5;241;43m.\u001b[39;49m\u001b[43mfindMedianSortedArrays\u001b[49m\u001b[43m(\u001b[49m\u001b[43mn1\u001b[49m\u001b[43m,\u001b[49m\u001b[43m \u001b[49m\u001b[43mn2\u001b[49m\u001b[43m)\u001b[49m)\n",
      "Cell \u001b[0;32mIn[2], line 11\u001b[0m, in \u001b[0;36mSolution.findMedianSortedArrays\u001b[0;34m(self, nums1, nums2)\u001b[0m\n\u001b[1;32m      9\u001b[0m half \u001b[38;5;241m=\u001b[39m n\u001b[38;5;241m/\u001b[39m\u001b[38;5;241m/\u001b[39m\u001b[38;5;241m2\u001b[39m\n\u001b[1;32m     10\u001b[0m low, high \u001b[38;5;241m=\u001b[39m \u001b[38;5;241m0\u001b[39m, n1\u001b[38;5;241m-\u001b[39m\u001b[38;5;241m1\u001b[39m\n\u001b[0;32m---> 11\u001b[0m \u001b[38;5;28;01mwhile\u001b[39;00m \u001b[38;5;28;01mTrue\u001b[39;00m:\n\u001b[1;32m     12\u001b[0m     mid1 \u001b[38;5;241m=\u001b[39m (high\u001b[38;5;241m+\u001b[39mlow)\u001b[38;5;241m/\u001b[39m\u001b[38;5;241m/\u001b[39m\u001b[38;5;241m2\u001b[39m\n\u001b[1;32m     13\u001b[0m     mid2 \u001b[38;5;241m=\u001b[39m half \u001b[38;5;241m-\u001b[39m (mid1\u001b[38;5;241m+\u001b[39m\u001b[38;5;241m1\u001b[39m) \u001b[38;5;241m-\u001b[39m \u001b[38;5;241m1\u001b[39m\n",
      "\u001b[0;31mKeyboardInterrupt\u001b[0m: "
     ]
    }
   ],
   "source": [
    "obj = Solution()\n",
    "print(obj.findMedianSortedArrays(n1, n2))"
   ]
  },
  {
   "cell_type": "markdown",
   "metadata": {},
   "source": [
    "# Method Python"
   ]
  },
  {
   "cell_type": "code",
   "execution_count": 5,
   "metadata": {},
   "outputs": [],
   "source": [
    "class Solution:\n",
    "    def findMedianSortedArrays(self, nums1, nums2) -> float:\n",
    "        nums1.extend(nums2)\n",
    "        nums1 = sorted(nums1)\n",
    "        length = len(nums1)\n",
    "        if length%2:\n",
    "            return nums1[length//2]\n",
    "        else:\n",
    "            return (nums1[length//2] + nums1[length//2-1])/2"
   ]
  },
  {
   "cell_type": "code",
   "execution_count": 6,
   "metadata": {},
   "outputs": [],
   "source": [
    "n1 = [1, 2, 3, 4, 5, 6, 7, 8, 9]\n",
    "n2 = [1, 2, 3, 9, 10, 11]"
   ]
  },
  {
   "cell_type": "code",
   "execution_count": 7,
   "metadata": {},
   "outputs": [
    {
     "name": "stdout",
     "output_type": "stream",
     "text": [
      "5\n"
     ]
    }
   ],
   "source": [
    "obj2 = Solution()\n",
    "print(obj2.findMedianSortedArrays(n1, n2))"
   ]
  },
  {
   "cell_type": "code",
   "execution_count": null,
   "metadata": {},
   "outputs": [],
   "source": []
  }
 ],
 "metadata": {
  "kernelspec": {
   "display_name": "py311",
   "language": "python",
   "name": "python3"
  },
  "language_info": {
   "codemirror_mode": {
    "name": "ipython",
    "version": 3
   },
   "file_extension": ".py",
   "mimetype": "text/x-python",
   "name": "python",
   "nbconvert_exporter": "python",
   "pygments_lexer": "ipython3",
   "version": "3.11.6"
  }
 },
 "nbformat": 4,
 "nbformat_minor": 2
}
