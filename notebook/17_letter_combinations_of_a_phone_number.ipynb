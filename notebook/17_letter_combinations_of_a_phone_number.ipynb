{
 "cells": [
  {
   "cell_type": "code",
   "execution_count": 5,
   "metadata": {},
   "outputs": [],
   "source": [
    "class Solution:\n",
    "    def letterCombinations(self, digits: str):\n",
    "        letters = {\"2\":\"abc\", \"3\":\"def\", \"4\":\"ghi\",\n",
    "                    \"5\":\"jkl\", \"6\":\"mno\", \"7\":\"pqrs\",\n",
    "                    \"8\":\"tuv\", \"9\":\"wxyz\"}\n",
    "        lst = []\n",
    "        def backtracker(i, curstr):\n",
    "            if len(curstr) == len(digits):\n",
    "                lst.append(curstr)\n",
    "                return\n",
    "            \n",
    "            for c in letters[digits[i]]:\n",
    "                backtracker(i+1, curstr+c)\n",
    "\n",
    "        if digits:\n",
    "            backtracker(0, \"\")\n",
    "        return lst"
   ]
  },
  {
   "cell_type": "code",
   "execution_count": 6,
   "metadata": {},
   "outputs": [
    {
     "data": {
      "text/plain": [
       "['ad', 'ae', 'af', 'bd', 'be', 'bf', 'cd', 'ce', 'cf']"
      ]
     },
     "execution_count": 6,
     "metadata": {},
     "output_type": "execute_result"
    }
   ],
   "source": [
    "digits = \"23\"\n",
    "obj = Solution()\n",
    "obj.letterCombinations(digits)"
   ]
  },
  {
   "cell_type": "code",
   "execution_count": null,
   "metadata": {},
   "outputs": [],
   "source": []
  }
 ],
 "metadata": {
  "kernelspec": {
   "display_name": "py311",
   "language": "python",
   "name": "python3"
  },
  "language_info": {
   "codemirror_mode": {
    "name": "ipython",
    "version": 3
   },
   "file_extension": ".py",
   "mimetype": "text/x-python",
   "name": "python",
   "nbconvert_exporter": "python",
   "pygments_lexer": "ipython3",
   "version": "3.11.6"
  }
 },
 "nbformat": 4,
 "nbformat_minor": 2
}
