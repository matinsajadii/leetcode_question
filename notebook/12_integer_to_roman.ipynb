{
 "cells": [
  {
   "cell_type": "markdown",
   "metadata": {},
   "source": [
    "# Method 1"
   ]
  },
  {
   "cell_type": "code",
   "execution_count": 9,
   "metadata": {},
   "outputs": [],
   "source": [
    "def intToRoman(num: int) -> str:\n",
    "    symbols = {\n",
    "        1000:\"M\", 900:\"CM\", 500:\"D\", 400:\"CD\",\n",
    "        100:\"C\", 90:\"XC\", 50:\"L\", 40:\"XL\", 10:\"X\",\n",
    "        9:\"IX\", 5:\"V\", 4:\"IV\", 1:\"I\"\n",
    "    }\n",
    "\n",
    "    res = \"\"\n",
    "\n",
    "    for k,v in symbols.items():\n",
    "        c = num // k\n",
    "        if c:\n",
    "            res += (v*c)\n",
    "            num %= k\n",
    "    return res"
   ]
  },
  {
   "cell_type": "code",
   "execution_count": 10,
   "metadata": {},
   "outputs": [
    {
     "data": {
      "text/plain": [
       "'MMMDCCXLIX'"
      ]
     },
     "execution_count": 10,
     "metadata": {},
     "output_type": "execute_result"
    }
   ],
   "source": [
    "num = 3749\n",
    "intToRoman(num)"
   ]
  },
  {
   "cell_type": "markdown",
   "metadata": {},
   "source": [
    "# Method 2"
   ]
  },
  {
   "cell_type": "code",
   "execution_count": 12,
   "metadata": {},
   "outputs": [],
   "source": [
    "def intToRoman2(num: int) -> str:\n",
    "    symbols = {\n",
    "        1000:\"M\", 900:\"CM\", 500:\"D\", 400:\"CD\",\n",
    "        100:\"C\", 90:\"XC\", 50:\"L\", 40:\"XL\", 10:\"X\",\n",
    "        9:\"IX\", 5:\"V\", 4:\"IV\", 1:\"I\"\n",
    "    }\n",
    "\n",
    "    res = \"\"\n",
    "\n",
    "    for k,v in symbols.items():\n",
    "        c = num // k\n",
    "        if c:\n",
    "            res += (v*c)\n",
    "            num %= k\n",
    "            if num == 0:\n",
    "                break\n",
    "    return res"
   ]
  },
  {
   "cell_type": "code",
   "execution_count": 13,
   "metadata": {},
   "outputs": [
    {
     "data": {
      "text/plain": [
       "'MMMDCCXLIX'"
      ]
     },
     "execution_count": 13,
     "metadata": {},
     "output_type": "execute_result"
    }
   ],
   "source": [
    "num = 3749\n",
    "intToRoman2(num)"
   ]
  },
  {
   "cell_type": "code",
   "execution_count": null,
   "metadata": {},
   "outputs": [],
   "source": []
  }
 ],
 "metadata": {
  "kernelspec": {
   "display_name": "py311",
   "language": "python",
   "name": "python3"
  },
  "language_info": {
   "codemirror_mode": {
    "name": "ipython",
    "version": 3
   },
   "file_extension": ".py",
   "mimetype": "text/x-python",
   "name": "python",
   "nbconvert_exporter": "python",
   "pygments_lexer": "ipython3",
   "version": "3.11.6"
  }
 },
 "nbformat": 4,
 "nbformat_minor": 2
}
