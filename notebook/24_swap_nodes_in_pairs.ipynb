{
 "cells": [
  {
   "cell_type": "code",
   "execution_count": null,
   "metadata": {},
   "outputs": [],
   "source": [
    "class ListNode:\n",
    "    def __init__(self, val=0, next=None):\n",
    "        self.val = val\n",
    "        self.next = next\n",
    "class Solution:\n",
    "    def swapPairs(self, head):\n",
    "        temp = ListNode(0, head)\n",
    "        pre = temp\n",
    "\n",
    "        while pre.next and pre.next.next:\n",
    "            first = pre.next\n",
    "            second = pre.next.next\n",
    "\n",
    "            pre.next = second\n",
    "            first.next = second.next\n",
    "            second.next = first\n",
    "\n",
    "            pre = first\n",
    "\n",
    "        return temp.next"
   ]
  }
 ],
 "metadata": {
  "language_info": {
   "name": "python"
  }
 },
 "nbformat": 4,
 "nbformat_minor": 2
}
