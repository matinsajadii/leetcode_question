{
 "cells": [
  {
   "cell_type": "code",
   "execution_count": 5,
   "metadata": {},
   "outputs": [],
   "source": [
    "class Solution:\n",
    "    def myAtoi(self, s: str) -> int:\n",
    "        s = s.lstrip()\n",
    "        n = len(s)\n",
    "        if not n:\n",
    "            return 0\n",
    "        \n",
    "\n",
    "        sign = 1\n",
    "        i = 0\n",
    "        if s[i] == \"+\":\n",
    "            i+=1\n",
    "        elif s[i] == \"-\":\n",
    "            sign = -1\n",
    "            i+=1\n",
    "\n",
    "        res = 0\n",
    "        while i<n:\n",
    "            cur = s[i]\n",
    "            if not cur.isdigit():\n",
    "                break\n",
    "            else:\n",
    "                res = res * 10 + int(cur)\n",
    "            i+=1\n",
    "\n",
    "        res *= sign\n",
    "\n",
    "        if res > 2**31-1:\n",
    "            return 2**31-1\n",
    "        elif res < -2**31:\n",
    "            return -2**31\n",
    "        else:\n",
    "            return res\n",
    "\n",
    "            \n",
    "            "
   ]
  },
  {
   "cell_type": "code",
   "execution_count": 6,
   "metadata": {},
   "outputs": [
    {
     "name": "stdout",
     "output_type": "stream",
     "text": [
      "42\n"
     ]
    }
   ],
   "source": [
    "obj = Solution()\n",
    "print(obj.myAtoi(\"42\"))"
   ]
  },
  {
   "cell_type": "code",
   "execution_count": null,
   "metadata": {},
   "outputs": [],
   "source": []
  }
 ],
 "metadata": {
  "kernelspec": {
   "display_name": "py311",
   "language": "python",
   "name": "python3"
  },
  "language_info": {
   "codemirror_mode": {
    "name": "ipython",
    "version": 3
   },
   "file_extension": ".py",
   "mimetype": "text/x-python",
   "name": "python",
   "nbconvert_exporter": "python",
   "pygments_lexer": "ipython3",
   "version": "3.11.6"
  }
 },
 "nbformat": 4,
 "nbformat_minor": 2
}
