{
 "cells": [
  {
   "cell_type": "code",
   "execution_count": null,
   "metadata": {},
   "outputs": [],
   "source": [
    "class Solution:\n",
    "    def longestPalindrome(self, s: str) -> str:\n",
    "        n = len(s)\n",
    "        if n==0:\n",
    "            return s\n",
    "        \n",
    "        res = \"\"\n",
    "        res_length = 0\n",
    "\n",
    "        for i in range(n):\n",
    "            #odd\n",
    "            l, r = i, i\n",
    "            while l>=0 and r<n and s[l]==s[r]:\n",
    "                if r-l+1 > res_length:\n",
    "                    res = s[l:r+1]\n",
    "                    res_length = r-l+1\n",
    "\n",
    "                l-=1\n",
    "                r+=1\n",
    "\n",
    "            #even\n",
    "            l, r = i, i+1\n",
    "            while l>=0 and r<n and s[l]==s[r]:\n",
    "                if r-l+1 > res_length:\n",
    "                    res = s[l:r+1]\n",
    "                    res_length = r-l+1\n",
    "\n",
    "                l-=1\n",
    "                r+=1\n",
    "\n",
    "        return res"
   ]
  }
 ],
 "metadata": {
  "language_info": {
   "name": "python"
  }
 },
 "nbformat": 4,
 "nbformat_minor": 2
}
