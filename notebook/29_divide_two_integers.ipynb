{
 "cells": [
  {
   "cell_type": "code",
   "execution_count": 4,
   "metadata": {},
   "outputs": [],
   "source": [
    "def divide(dividend: int, divisor: int) -> int:\n",
    "    d = dividend\n",
    "    dv = divisor\n",
    "    q = 0\n",
    "\n",
    "    while d >= dv:\n",
    "        temp = dv\n",
    "        mul = 1\n",
    "\n",
    "        while d >= temp:\n",
    "            d -= temp\n",
    "            q += mul\n",
    "            mul += mul\n",
    "            temp += temp\n",
    "    \n",
    "\n",
    "    if (dividend < 0 and divisor > 0) or (dividend > 0 and divisor < 0):\n",
    "        q = -q\n",
    "    \n",
    "    if q < -2147483648:\n",
    "        return -2147483648\n",
    "    elif q > 2147483647:\n",
    "        return 2147483647\n",
    "    else:\n",
    "        return q"
   ]
  },
  {
   "cell_type": "code",
   "execution_count": 6,
   "metadata": {},
   "outputs": [
    {
     "data": {
      "text/plain": [
       "16"
      ]
     },
     "execution_count": 6,
     "metadata": {},
     "output_type": "execute_result"
    }
   ],
   "source": [
    "divide(32, 2)"
   ]
  },
  {
   "cell_type": "code",
   "execution_count": null,
   "metadata": {},
   "outputs": [],
   "source": []
  }
 ],
 "metadata": {
  "kernelspec": {
   "display_name": "py311",
   "language": "python",
   "name": "python3"
  },
  "language_info": {
   "codemirror_mode": {
    "name": "ipython",
    "version": 3
   },
   "file_extension": ".py",
   "mimetype": "text/x-python",
   "name": "python",
   "nbconvert_exporter": "python",
   "pygments_lexer": "ipython3",
   "version": "3.11.6"
  }
 },
 "nbformat": 4,
 "nbformat_minor": 2
}
