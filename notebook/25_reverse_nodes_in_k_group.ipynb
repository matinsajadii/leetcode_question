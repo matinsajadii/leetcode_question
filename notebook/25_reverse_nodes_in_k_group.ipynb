{
 "cells": [
  {
   "cell_type": "code",
   "execution_count": null,
   "metadata": {},
   "outputs": [],
   "source": [
    "class ListNode:\n",
    "    def __init__(self, val=0, next=None):\n",
    "        self.val = val\n",
    "        self.next = next\n",
    "class Solution:\n",
    "    def reverseKGroup(self, head, k: int):\n",
    "        count = 0\n",
    "        temp = head\n",
    "\n",
    "        while temp and count < k:\n",
    "            temp = temp.next\n",
    "            count += 1\n",
    "        \n",
    "        if count < k:\n",
    "            return head\n",
    "        \n",
    "        pre , cur = None, head\n",
    "\n",
    "        for i in range(k):\n",
    "            nxt = cur.next\n",
    "            cur.next = pre\n",
    "            pre = cur\n",
    "            cur  = nxt\n",
    "\n",
    "        if cur:\n",
    "            head.next = self.reverseKGroup(cur, k)\n",
    "        \n",
    "        return pre"
   ]
  }
 ],
 "metadata": {
  "language_info": {
   "name": "python"
  }
 },
 "nbformat": 4,
 "nbformat_minor": 2
}
