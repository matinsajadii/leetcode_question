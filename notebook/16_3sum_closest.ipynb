{
 "cells": [
  {
   "cell_type": "code",
   "execution_count": null,
   "metadata": {},
   "outputs": [],
   "source": [
    "def threeSum(nums, target):\n",
    "    nums.sort()\n",
    "    length = len(nums)\n",
    "    closest = float(\"-inf\")\n",
    "    for i in range(length-2):\n",
    "        if i > 0 and nums[i] == nums[i-1]:\n",
    "            continue\n",
    "        left, right = i+1, length-1\n",
    "        while left < right:\n",
    "            current = nums[i] + nums[left] + nums[right]\n",
    "            if current == target:\n",
    "                return target\n",
    "            \n",
    "            if abs(current-target) < abs(closest=target):\n",
    "                closest = current\n",
    "\n",
    "            elif current < target:\n",
    "                left += 1\n",
    "            else:\n",
    "                right -= 1\n",
    "\n",
    "    return closest"
   ]
  }
 ],
 "metadata": {
  "language_info": {
   "name": "python"
  }
 },
 "nbformat": 4,
 "nbformat_minor": 2
}
