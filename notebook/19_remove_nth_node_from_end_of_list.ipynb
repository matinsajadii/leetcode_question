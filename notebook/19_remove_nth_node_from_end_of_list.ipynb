{
 "cells": [
  {
   "cell_type": "code",
   "execution_count": 5,
   "metadata": {},
   "outputs": [],
   "source": [
    "# Definition for singly-linked list.\n",
    "class ListNode:\n",
    "    def __init__(self, val=0, next=None):\n",
    "        self.val = val\n",
    "        self.next = next\n",
    "class Solution:\n",
    "    def removeNthFromEnd(self, head, n: int):\n",
    "        temp = ListNode(0, head)\n",
    "        cur, pre = head, temp\n",
    "        while cur and n:\n",
    "            cur = cur.next\n",
    "            n -= 1\n",
    "        while cur:\n",
    "            cur = cur.next\n",
    "            pre = pre.next\n",
    "        pre.next = pre.next.next\n",
    "        return temp.next\n",
    "    \n",
    "def list_to_linkedlist(lst):\n",
    "    \"\"\"Helper function to convert a list to a linked list\"\"\"\n",
    "    dummy = ListNode(0)\n",
    "    current = dummy\n",
    "    for value in lst:\n",
    "        current.next = ListNode(value)\n",
    "        current = current.next\n",
    "    return dummy.next\n",
    "\n",
    "def linkedlist_to_list(node):\n",
    "    \"\"\"Helper function to convert a linked list to a list\"\"\"\n",
    "    result = []\n",
    "    current = node\n",
    "    while current:\n",
    "        result.append(current.val)\n",
    "        current = current.next\n",
    "    return result"
   ]
  },
  {
   "cell_type": "code",
   "execution_count": 6,
   "metadata": {},
   "outputs": [
    {
     "name": "stdout",
     "output_type": "stream",
     "text": [
      "[1, 2, 3, 5]\n"
     ]
    }
   ],
   "source": [
    "\n",
    "head = [1, 2, 3, 4, 5]\n",
    "n = 2\n",
    "\n",
    "linkedlist_head = list_to_linkedlist(head)\n",
    "solution = Solution()\n",
    "result = solution.removeNthFromEnd(linkedlist_head, n)\n",
    "\n",
    "result_list = linkedlist_to_list(result)\n",
    "print(result_list)  # Output: [1, 2, 3, 5]"
   ]
  },
  {
   "cell_type": "code",
   "execution_count": null,
   "metadata": {},
   "outputs": [],
   "source": []
  }
 ],
 "metadata": {
  "kernelspec": {
   "display_name": "py311",
   "language": "python",
   "name": "python3"
  },
  "language_info": {
   "codemirror_mode": {
    "name": "ipython",
    "version": 3
   },
   "file_extension": ".py",
   "mimetype": "text/x-python",
   "name": "python",
   "nbconvert_exporter": "python",
   "pygments_lexer": "ipython3",
   "version": "3.11.6"
  }
 },
 "nbformat": 4,
 "nbformat_minor": 2
}
