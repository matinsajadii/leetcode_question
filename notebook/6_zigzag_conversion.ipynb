{
 "cells": [
  {
   "cell_type": "code",
   "execution_count": 1,
   "metadata": {},
   "outputs": [],
   "source": [
    "class Solution:\n",
    "    def convert(self, s: str, numRows: int) -> str:\n",
    "        if numRows == 1:\n",
    "            return s\n",
    "\n",
    "        m = [[] for i in range(numRows)]\n",
    "        row = 0\n",
    "        flag = True\n",
    "        for ch in s:\n",
    "            if flag:\n",
    "                m[row].append(ch)\n",
    "                row+=1\n",
    "            else:\n",
    "                row-=1\n",
    "                m[row].append(ch)\n",
    "            \n",
    "            if row == numRows:\n",
    "                flag = not flag\n",
    "                row-=1\n",
    "            elif row == 0:\n",
    "                row+=1\n",
    "                flag = not flag\n",
    "                \n",
    "        return \"\".join([\"\".join(i) for i in m])"
   ]
  },
  {
   "cell_type": "code",
   "execution_count": 2,
   "metadata": {},
   "outputs": [],
   "source": [
    "s = \"PAYPALISHIRING\"\n",
    "\n",
    "numRows = 3"
   ]
  },
  {
   "cell_type": "code",
   "execution_count": 3,
   "metadata": {},
   "outputs": [
    {
     "name": "stdout",
     "output_type": "stream",
     "text": [
      "PAHNAPLSIIGYIR\n"
     ]
    }
   ],
   "source": [
    "obj = Solution()\n",
    "print(obj.convert(s, numRows))"
   ]
  },
  {
   "cell_type": "code",
   "execution_count": 4,
   "metadata": {},
   "outputs": [],
   "source": [
    "s = \"PAYPALISHIRING\"\n",
    "\n",
    "numRows = 4"
   ]
  },
  {
   "cell_type": "code",
   "execution_count": 5,
   "metadata": {},
   "outputs": [
    {
     "name": "stdout",
     "output_type": "stream",
     "text": [
      "PINALSIGYAHRPI\n"
     ]
    }
   ],
   "source": [
    "obj = Solution()\n",
    "print(obj.convert(s, numRows))"
   ]
  },
  {
   "cell_type": "code",
   "execution_count": 3,
   "metadata": {},
   "outputs": [
    {
     "name": "stdout",
     "output_type": "stream",
     "text": [
      "MTNAI\n"
     ]
    }
   ],
   "source": [
    "s = \"MATIN\"\n",
    "\n",
    "numRows = 2\n",
    "\n",
    "obj5 = Solution()\n",
    "print(obj5.convert(s, numRows))"
   ]
  },
  {
   "cell_type": "code",
   "execution_count": null,
   "metadata": {},
   "outputs": [],
   "source": []
  }
 ],
 "metadata": {
  "kernelspec": {
   "display_name": "py311",
   "language": "python",
   "name": "python3"
  },
  "language_info": {
   "codemirror_mode": {
    "name": "ipython",
    "version": 3
   },
   "file_extension": ".py",
   "mimetype": "text/x-python",
   "name": "python",
   "nbconvert_exporter": "python",
   "pygments_lexer": "ipython3",
   "version": "3.11.6"
  }
 },
 "nbformat": 4,
 "nbformat_minor": 2
}
