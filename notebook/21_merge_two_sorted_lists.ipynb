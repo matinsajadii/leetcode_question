{
 "cells": [
  {
   "cell_type": "markdown",
   "metadata": {},
   "source": [
    "# Method 1 (ListNode)"
   ]
  },
  {
   "cell_type": "code",
   "execution_count": 27,
   "metadata": {},
   "outputs": [],
   "source": [
    "class ListNode:\n",
    "    def __init__(self, val=0, next=None):\n",
    "        self.val = val\n",
    "        self.next = next\n",
    "class Solution:\n",
    "    def mergeTwoLists(self, list1, list2):\n",
    "        temp = ListNode(0, None)\n",
    "        cur = temp\n",
    "\n",
    "        while list1 and list2:\n",
    "            if list1.val < list2.val:\n",
    "                cur.next = list1\n",
    "                list1.next = list1\n",
    "            else:\n",
    "                cur.next = list2\n",
    "                list2.next = list2\n",
    "            cur = cur.next\n",
    "\n",
    "        if list1:\n",
    "            cur.next = list1\n",
    "        if list2:\n",
    "            cur.next = list2\n",
    "        return temp.next"
   ]
  },
  {
   "cell_type": "markdown",
   "metadata": {},
   "source": [
    "# Method 2 (List)"
   ]
  },
  {
   "cell_type": "code",
   "execution_count": 3,
   "metadata": {},
   "outputs": [],
   "source": [
    "def merge(list1, list2):\n",
    "    len1 , len2 = len(list1), len(list2)\n",
    "\n",
    "    i, j = 0, 0\n",
    "    list3 = []\n",
    "\n",
    "    while i < len1 and j < len2:\n",
    "        if list1[i] < list2[j]:\n",
    "            list3.append(list1[i])\n",
    "            i += 1\n",
    "        else:\n",
    "            list3.append(list2[j])\n",
    "            j += 1\n",
    "        \n",
    "    if i == len1:\n",
    "        list3.extend(list2[j:])\n",
    "    else:\n",
    "        list3.extend(list1[i:])\n",
    "    return list3"
   ]
  },
  {
   "cell_type": "code",
   "execution_count": 4,
   "metadata": {},
   "outputs": [
    {
     "data": {
      "text/plain": [
       "[1, 1, 2, 3, 4, 4]"
      ]
     },
     "execution_count": 4,
     "metadata": {},
     "output_type": "execute_result"
    }
   ],
   "source": [
    "list1 = [1, 2, 4]\n",
    "list2 = [1, 3, 4]\n",
    "\n",
    "merge(list1, list2)"
   ]
  }
 ],
 "metadata": {
  "kernelspec": {
   "display_name": "py311",
   "language": "python",
   "name": "python3"
  },
  "language_info": {
   "codemirror_mode": {
    "name": "ipython",
    "version": 3
   },
   "file_extension": ".py",
   "mimetype": "text/x-python",
   "name": "python",
   "nbconvert_exporter": "python",
   "pygments_lexer": "ipython3",
   "version": "3.11.6"
  }
 },
 "nbformat": 4,
 "nbformat_minor": 2
}
