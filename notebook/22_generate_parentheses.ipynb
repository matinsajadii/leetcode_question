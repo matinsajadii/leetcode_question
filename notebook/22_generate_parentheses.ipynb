{
 "cells": [
  {
   "cell_type": "code",
   "execution_count": 3,
   "metadata": {},
   "outputs": [],
   "source": [
    "def generateParenthesis(n: int):\n",
    "    res, stack = [], []\n",
    "\n",
    "    def backtracer(op, cp):\n",
    "        if cp == op == n:\n",
    "            res.append(\"\".join(stack))\n",
    "            return\n",
    "        \n",
    "        if op < n:\n",
    "            stack.append(\"(\")\n",
    "            backtracer(op+1, cp)\n",
    "            stack.pop()\n",
    "\n",
    "        if cp < op:\n",
    "            stack.append(\")\")\n",
    "            backtracer(op, cp+1)\n",
    "            stack.pop()\n",
    "    \n",
    "    backtracer(0, 0)\n",
    "    return res"
   ]
  },
  {
   "cell_type": "code",
   "execution_count": 4,
   "metadata": {},
   "outputs": [
    {
     "data": {
      "text/plain": [
       "['((()))', '(()())', '(())()', '()(())', '()()()']"
      ]
     },
     "execution_count": 4,
     "metadata": {},
     "output_type": "execute_result"
    }
   ],
   "source": [
    "generateParenthesis(3)"
   ]
  },
  {
   "cell_type": "code",
   "execution_count": null,
   "metadata": {},
   "outputs": [],
   "source": []
  }
 ],
 "metadata": {
  "kernelspec": {
   "display_name": "py311",
   "language": "python",
   "name": "python3"
  },
  "language_info": {
   "codemirror_mode": {
    "name": "ipython",
    "version": 3
   },
   "file_extension": ".py",
   "mimetype": "text/x-python",
   "name": "python",
   "nbconvert_exporter": "python",
   "pygments_lexer": "ipython3",
   "version": "3.11.6"
  }
 },
 "nbformat": 4,
 "nbformat_minor": 2
}
