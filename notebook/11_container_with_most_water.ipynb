{
 "cells": [
  {
   "cell_type": "code",
   "execution_count": 1,
   "metadata": {},
   "outputs": [],
   "source": [
    "class Solution:\n",
    "    def maxArea(self, height) -> int:\n",
    "        m = max(height)\n",
    "        left , right = 0, len(height)-1\n",
    "\n",
    "        res = 0\n",
    "        while left < right:\n",
    "            leftval , rightval = height[left], height[right]\n",
    "            a = (right-left) * (min(leftval, rightval))\n",
    "            res = a if a > res else res\n",
    "            \n",
    "            if leftval > rightval:\n",
    "                right-=1\n",
    "            else:\n",
    "                left+=1\n",
    "            if res > (right-left) * m:\n",
    "                break\n",
    "        return res        "
   ]
  },
  {
   "cell_type": "code",
   "execution_count": 2,
   "metadata": {},
   "outputs": [
    {
     "name": "stdout",
     "output_type": "stream",
     "text": [
      "49\n"
     ]
    }
   ],
   "source": [
    "obj = Solution()\n",
    "print(obj.maxArea([1,8,6,2,5,4,8,3,7]))"
   ]
  },
  {
   "cell_type": "code",
   "execution_count": null,
   "metadata": {},
   "outputs": [],
   "source": []
  }
 ],
 "metadata": {
  "kernelspec": {
   "display_name": "py311",
   "language": "python",
   "name": "python3"
  },
  "language_info": {
   "codemirror_mode": {
    "name": "ipython",
    "version": 3
   },
   "file_extension": ".py",
   "mimetype": "text/x-python",
   "name": "python",
   "nbconvert_exporter": "python",
   "pygments_lexer": "ipython3",
   "version": "3.11.6"
  }
 },
 "nbformat": 4,
 "nbformat_minor": 2
}
